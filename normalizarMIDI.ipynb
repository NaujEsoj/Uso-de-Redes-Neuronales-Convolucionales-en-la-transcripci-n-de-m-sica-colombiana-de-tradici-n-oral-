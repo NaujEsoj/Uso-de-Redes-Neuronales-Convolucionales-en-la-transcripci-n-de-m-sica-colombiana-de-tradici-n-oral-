{
 "cells": [
  {
   "cell_type": "code",
   "execution_count": null,
   "id": "1cf27f69",
   "metadata": {},
   "outputs": [],
   "source": [
    "import os\n",
    "from mido import MidiFile, MidiTrack, Message"
   ]
  },
  {
   "cell_type": "code",
   "execution_count": null,
   "id": "b57adcfc",
   "metadata": {},
   "outputs": [],
   "source": [
    "def normalize_duration(ticks, ticks_per_beat):\n",
    "    \"\"\"\n",
    "    Redondea una duración (en ticks) a la subdivisión binaria más cercana.\n",
    "    \"\"\"\n",
    "    # Subdivisiones comunes: redonda, blanca, negra, corchea, etc.\n",
    "    powers_of_two = [1, 2, 4, 8, 16, 32, 64]\n",
    "    durations = [int(ticks_per_beat / d) for d in powers_of_two]\n",
    "    closest = min(durations, key=lambda d: abs(d - ticks))\n",
    "    return closest"
   ]
  },
  {
   "cell_type": "code",
   "execution_count": null,
   "id": "fd12abb4",
   "metadata": {},
   "outputs": [],
   "source": [
    "def normalize_midi_file(input_path):\n",
    "    \"\"\"\n",
    "    Lee y normaliza un archivo MIDI, sobrescribiéndolo con la versión corregida.\n",
    "    \"\"\"\n",
    "    mid = MidiFile(input_path)\n",
    "    normalized = MidiFile()\n",
    "    normalized.ticks_per_beat = mid.ticks_per_beat\n",
    "\n",
    "    for track in mid.tracks:\n",
    "        new_track = MidiTrack()\n",
    "        time_buffer = 0\n",
    "        note_stack = {}\n",
    "\n",
    "        for msg in track:\n",
    "            if msg.is_meta:\n",
    "                new_track.append(msg)\n",
    "                continue\n",
    "\n",
    "            time_buffer += msg.time\n",
    "\n",
    "            if msg.type == 'note_on' and msg.velocity > 0:\n",
    "                note_stack[msg.note] = time_buffer\n",
    "                time_buffer = 0\n",
    "\n",
    "            elif msg.type in ['note_off', 'note_on'] and (msg.velocity == 0 or msg.type == 'note_off'):\n",
    "                if msg.note in note_stack:\n",
    "                    start_time = note_stack.pop(msg.note)\n",
    "                    duration = time_buffer\n",
    "                    normalized_duration = normalize_duration(duration, mid.ticks_per_beat)\n",
    "\n",
    "                    new_track.append(Message('note_on', note=msg.note, velocity=64, time=start_time))\n",
    "                    new_track.append(Message('note_off', note=msg.note, velocity=64, time=normalized_duration))\n",
    "                    time_buffer = 0\n",
    "\n",
    "        normalized.tracks.append(new_track)\n",
    "\n",
    "    normalized.save(input_path)\n",
    "    print(f\"Normalizado y sobrescrito: {input_path}\")"
   ]
  },
  {
   "cell_type": "code",
   "execution_count": null,
   "id": "6dcd381f",
   "metadata": {},
   "outputs": [],
   "source": [
    "root_folder = r\"F:\\TG MINTA\\separated_songs\""
   ]
  },
  {
   "cell_type": "code",
   "execution_count": null,
   "id": "cd8dec39",
   "metadata": {},
   "outputs": [],
   "source": [
    "for dirpath, dirnames, filenames in os.walk(root_folder):\n",
    "    for filename in filenames:\n",
    "        if filename.lower().endswith(\".mid\"):\n",
    "            midi_path = os.path.join(dirpath, filename)\n",
    "            try:\n",
    "                normalize_midi_file(midi_path)\n",
    "            except Exception as e:\n",
    "                print(f\"Error al procesar {midi_path}: {e}\")"
   ]
  }
 ],
 "metadata": {
  "language_info": {
   "name": "python"
  }
 },
 "nbformat": 4,
 "nbformat_minor": 5
}
